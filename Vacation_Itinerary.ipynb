{
 "cells": [
  {
   "cell_type": "markdown",
   "metadata": {},
   "source": [
    "## Deliverable 3. Create a Travel Itinerary Map."
   ]
  },
  {
   "cell_type": "code",
   "execution_count": 5,
   "metadata": {},
   "outputs": [],
   "source": [
    "# Dependencies and Setup\n",
    "import pandas as pd\n",
    "import requests\n",
    "import gmaps\n",
    "\n",
    "# Import API key\n",
    "from config import g_key\n",
    "\n",
    "# Configure gmaps\n",
    "gmaps.configure(api_key=g_key)"
   ]
  },
  {
   "cell_type": "code",
   "execution_count": 6,
   "metadata": {},
   "outputs": [
    {
     "output_type": "execute_result",
     "data": {
      "text/plain": [
       "   City_ID               City Country  Maximum Temperature  \\\n",
       "0        0           Kūhdasht      IR                35.29   \n",
       "1        1       Punta Arenas      CL                51.80   \n",
       "2        2             Broome      US                15.01   \n",
       "3        3  City of San Pedro      PH                81.00   \n",
       "4        4  Saint Paul Harbor      US                33.80   \n",
       "\n",
       "  Weather Description  City Latitude  City Longitude  \\\n",
       "0     overcast clouds        33.5350         47.6061   \n",
       "1           clear sky       -53.1500        -70.9167   \n",
       "2           clear sky        42.2506        -75.8330   \n",
       "3    scattered clouds        14.3500        121.0167   \n",
       "4           clear sky        57.7900       -152.4072   \n",
       "\n",
       "                                      Hotel Name  \n",
       "0                                  فروشگاه زنبیل  \n",
       "1                      Hotel Dreams Del Estrecho  \n",
       "2                     Chenango Valley State Park  \n",
       "3                         OYO 412 Viewfort Venue  \n",
       "4  Best Western Kodiak Inn and Convention Center  "
      ],
      "text/html": "<div>\n<style scoped>\n    .dataframe tbody tr th:only-of-type {\n        vertical-align: middle;\n    }\n\n    .dataframe tbody tr th {\n        vertical-align: top;\n    }\n\n    .dataframe thead th {\n        text-align: right;\n    }\n</style>\n<table border=\"1\" class=\"dataframe\">\n  <thead>\n    <tr style=\"text-align: right;\">\n      <th></th>\n      <th>City_ID</th>\n      <th>City</th>\n      <th>Country</th>\n      <th>Maximum Temperature</th>\n      <th>Weather Description</th>\n      <th>City Latitude</th>\n      <th>City Longitude</th>\n      <th>Hotel Name</th>\n    </tr>\n  </thead>\n  <tbody>\n    <tr>\n      <th>0</th>\n      <td>0</td>\n      <td>Kūhdasht</td>\n      <td>IR</td>\n      <td>35.29</td>\n      <td>overcast clouds</td>\n      <td>33.5350</td>\n      <td>47.6061</td>\n      <td>فروشگاه زنبیل</td>\n    </tr>\n    <tr>\n      <th>1</th>\n      <td>1</td>\n      <td>Punta Arenas</td>\n      <td>CL</td>\n      <td>51.80</td>\n      <td>clear sky</td>\n      <td>-53.1500</td>\n      <td>-70.9167</td>\n      <td>Hotel Dreams Del Estrecho</td>\n    </tr>\n    <tr>\n      <th>2</th>\n      <td>2</td>\n      <td>Broome</td>\n      <td>US</td>\n      <td>15.01</td>\n      <td>clear sky</td>\n      <td>42.2506</td>\n      <td>-75.8330</td>\n      <td>Chenango Valley State Park</td>\n    </tr>\n    <tr>\n      <th>3</th>\n      <td>3</td>\n      <td>City of San Pedro</td>\n      <td>PH</td>\n      <td>81.00</td>\n      <td>scattered clouds</td>\n      <td>14.3500</td>\n      <td>121.0167</td>\n      <td>OYO 412 Viewfort Venue</td>\n    </tr>\n    <tr>\n      <th>4</th>\n      <td>4</td>\n      <td>Saint Paul Harbor</td>\n      <td>US</td>\n      <td>33.80</td>\n      <td>clear sky</td>\n      <td>57.7900</td>\n      <td>-152.4072</td>\n      <td>Best Western Kodiak Inn and Convention Center</td>\n    </tr>\n  </tbody>\n</table>\n</div>"
     },
     "metadata": {},
     "execution_count": 6
    }
   ],
   "source": [
    "# 1. Read the WeatherPy_vacation.csv into a DataFrame.\n",
    "vacation_df = pd.read_csv(\"../Vaction_Search/WeatherPy_vacation.csv\")\n",
    "vacation_df.head()"
   ]
  },
  {
   "cell_type": "code",
   "execution_count": 12,
   "metadata": {},
   "outputs": [],
   "source": [
    "# 2. Using the template add the city name, the country code, the weather description and maximum temperature for the city.\n",
    "info_box_template = \"\"\"\n",
    "<dl>\n",
    "<dt>Hotel Name</dt><dd>{Hotel Name}</dd>\n",
    "<dt>City</dt><dd>{City}</dd>\n",
    "<dt>Country</dt><dd>{Country}</dd>\n",
    "<dt>Current Weather</dt><dd>{Weather Description} and {Maximum Temperature} °F</dd>\n",
    "</dl>\n",
    "\"\"\"\n",
    "\n",
    "# 3a. Get the data from each row and add it to the formatting template and store the data in a list.\n",
    "hotel_info = [info_box_template.format(**row) for index, row in vacation_df.iterrows()]\n",
    "\n",
    "# 3b. Get the latitude and longitude from each row and store in a new DataFrame.\n",
    "locations = vacation_df[[\"City Latitude\", \"City Longitude\"]]"
   ]
  },
  {
   "cell_type": "code",
   "execution_count": 13,
   "metadata": {},
   "outputs": [
    {
     "output_type": "display_data",
     "data": {
      "text/plain": "Figure(layout=FigureLayout(height='420px'))",
      "application/vnd.jupyter.widget-view+json": {
       "version_major": 2,
       "version_minor": 0,
       "model_id": "212e4bb1a33945649b8b6e364733c5f0"
      }
     },
     "metadata": {}
    }
   ],
   "source": [
    "# 4a. Add a marker layer for each city to the map.\n",
    "marker_layer = gmaps.marker_layer(locations,info_box_content=hotel_info)\n",
    "# 4b. Display the figure\n",
    "fig = gmaps.figure(center=(30.0, 31.0), zoom_level=1.5)\n",
    "fig.add_layer(marker_layer)\n",
    "fig\n"
   ]
  },
  {
   "cell_type": "code",
   "execution_count": 20,
   "metadata": {},
   "outputs": [],
   "source": [
    "# From the map above pick 4 cities and create a vacation itinerary route to travel between the four cities. \n",
    "# 5. Create DataFrames for each city by filtering the 'vacation_df' using the loc method. \n",
    "# Hint: The starting and ending city should be the same city.\n",
    "vacation_start = vacation_df.loc[(vacation_df[\"City\"] == \"Portland\")]\n",
    "vacation_end = vacation_df.loc[(vacation_df[\"City\"] == \"Portland\")]\n",
    "vacation_stop1 = vacation_df.loc[(vacation_df[\"City\"] == \"North Bend\")]\n",
    "vacation_stop2 = vacation_df.loc[(vacation_df[\"City\"] == \"Bend\")]\n",
    "vacation_stop3 =  vacation_df.loc[(vacation_df[\"City\"] == \"Baker City\")]\n"
   ]
  },
  {
   "cell_type": "code",
   "execution_count": 21,
   "metadata": {},
   "outputs": [],
   "source": [
    "# 6. Get the latitude-longitude pairs as tuples from each city DataFrame using the to_numpy function and list indexing.\n",
    "start = (vacation_start.to_numpy()[0][5], vacation_start.to_numpy()[0][6])\n",
    "end = (vacation_end.to_numpy()[0][5], vacation_end.to_numpy()[0][6])\n",
    "stop1 = (vacation_stop1.to_numpy()[0][5], vacation_stop1.to_numpy()[0][6])\n",
    "stop2 = (vacation_stop2.to_numpy()[0][5], vacation_stop2.to_numpy()[0][6])\n",
    "stop3 = (vacation_stop3.to_numpy()[0][5], vacation_stop3.to_numpy()[0][6])\n"
   ]
  },
  {
   "cell_type": "code",
   "execution_count": 22,
   "metadata": {
    "scrolled": true
   },
   "outputs": [
    {
     "output_type": "display_data",
     "data": {
      "text/plain": "Figure(layout=FigureLayout(height='420px'))",
      "application/vnd.jupyter.widget-view+json": {
       "version_major": 2,
       "version_minor": 0,
       "model_id": "9a7c5875d73c416db7d8c00af16b18ed"
      }
     },
     "metadata": {}
    }
   ],
   "source": [
    "# 7. Create a direction layer map using the start and end latitude-longitude pairs,\n",
    "# and stop1, stop2, and stop3 as the waypoints. The travel_mode should be \"DRIVING\", \"BICYCLING\", or \"WALKING\".\n",
    "directional_layer = gmaps.directions_layer(start=start, end=end, waypoints=[stop1, stop2, stop3], travel_mode=\"DRIVING\")\n",
    "fig = gmaps.figure(center=(30.0, 31.0), zoom_level=1.5)\n",
    "fig.add_layer(directional_layer)\n",
    "fig"
   ]
  },
  {
   "cell_type": "code",
   "execution_count": 23,
   "metadata": {},
   "outputs": [
    {
     "output_type": "execute_result",
     "data": {
      "text/plain": [
       "   City_ID        City Country  Maximum Temperature Weather Description  \\\n",
       "0      398    Portland      US                48.99     overcast clouds   \n",
       "1      191  North Bend      US                48.20                mist   \n",
       "2       68        Bend      US                44.60       broken clouds   \n",
       "3      205  Baker City      US                42.80           clear sky   \n",
       "\n",
       "   City Latitude  City Longitude  \\\n",
       "0        45.5234       -122.6762   \n",
       "1        43.4065       -124.2243   \n",
       "2        44.0582       -121.3153   \n",
       "3        44.7749       -117.8344   \n",
       "\n",
       "                                         Hotel Name  \n",
       "0        Embassy Suites by Hilton Portland Downtown  \n",
       "1                           Red Lion Hotel Coos Bay  \n",
       "2  Fairfield Inn & Suites by Marriott Bend Downtown  \n",
       "3                                 Bridge Street Inn  "
      ],
      "text/html": "<div>\n<style scoped>\n    .dataframe tbody tr th:only-of-type {\n        vertical-align: middle;\n    }\n\n    .dataframe tbody tr th {\n        vertical-align: top;\n    }\n\n    .dataframe thead th {\n        text-align: right;\n    }\n</style>\n<table border=\"1\" class=\"dataframe\">\n  <thead>\n    <tr style=\"text-align: right;\">\n      <th></th>\n      <th>City_ID</th>\n      <th>City</th>\n      <th>Country</th>\n      <th>Maximum Temperature</th>\n      <th>Weather Description</th>\n      <th>City Latitude</th>\n      <th>City Longitude</th>\n      <th>Hotel Name</th>\n    </tr>\n  </thead>\n  <tbody>\n    <tr>\n      <th>0</th>\n      <td>398</td>\n      <td>Portland</td>\n      <td>US</td>\n      <td>48.99</td>\n      <td>overcast clouds</td>\n      <td>45.5234</td>\n      <td>-122.6762</td>\n      <td>Embassy Suites by Hilton Portland Downtown</td>\n    </tr>\n    <tr>\n      <th>1</th>\n      <td>191</td>\n      <td>North Bend</td>\n      <td>US</td>\n      <td>48.20</td>\n      <td>mist</td>\n      <td>43.4065</td>\n      <td>-124.2243</td>\n      <td>Red Lion Hotel Coos Bay</td>\n    </tr>\n    <tr>\n      <th>2</th>\n      <td>68</td>\n      <td>Bend</td>\n      <td>US</td>\n      <td>44.60</td>\n      <td>broken clouds</td>\n      <td>44.0582</td>\n      <td>-121.3153</td>\n      <td>Fairfield Inn &amp; Suites by Marriott Bend Downtown</td>\n    </tr>\n    <tr>\n      <th>3</th>\n      <td>205</td>\n      <td>Baker City</td>\n      <td>US</td>\n      <td>42.80</td>\n      <td>clear sky</td>\n      <td>44.7749</td>\n      <td>-117.8344</td>\n      <td>Bridge Street Inn</td>\n    </tr>\n  </tbody>\n</table>\n</div>"
     },
     "metadata": {},
     "execution_count": 23
    }
   ],
   "source": [
    "# 8. To create a marker layer map between the four cities.\n",
    "#  Combine the four city DataFrames into one DataFrame using the concat() function.\n",
    "itinerary_df = pd.concat([vacation_start, vacation_stop1, vacation_stop2, vacation_stop3],ignore_index=True)\n",
    "itinerary_df"
   ]
  },
  {
   "cell_type": "code",
   "execution_count": 26,
   "metadata": {},
   "outputs": [],
   "source": [
    "# 9 Using the template add city name, the country code, the weather description and maximum temperature for the city. \n",
    "info_box_template = \"\"\"\n",
    "<dl>\n",
    "<dt>Hotel Name</dt><dd>{Hotel Name}</dd>\n",
    "<dt>City</dt><dd>{City}</dd>\n",
    "<dt>Country</dt><dd>{Country}</dd>\n",
    "<dt>Current Weather</dt><dd>{Weather Description} and {Maximum Temperature} °F</dd>\n",
    "</dl>\n",
    "\"\"\"\n",
    "\n",
    "# 10a Get the data from each row and add it to the formatting template and store the data in a list.\n",
    "hotel_info = [info_box_template.format(**row) for index, row in itinerary_df.iterrows()]\n",
    "\n",
    "# 10b. Get the latitude and longitude from each row and store in a new DataFrame.\n",
    "locations = itinerary_df[[\"City Latitude\", \"City Longitude\"]]"
   ]
  },
  {
   "cell_type": "code",
   "execution_count": 27,
   "metadata": {},
   "outputs": [
    {
     "output_type": "display_data",
     "data": {
      "text/plain": "Figure(layout=FigureLayout(height='420px'))",
      "application/vnd.jupyter.widget-view+json": {
       "version_major": 2,
       "version_minor": 0,
       "model_id": "39de66315521468db9a595409b0733c0"
      }
     },
     "metadata": {}
    }
   ],
   "source": [
    "# 11a. Add a marker layer for each city to the map.\n",
    "marker_layer = gmaps.marker_layer(locations,info_box_content=hotel_info)\n",
    "# 11b. Display the figure\n",
    "fig = gmaps.figure(center=(30.0, 31.0), zoom_level=1.5)\n",
    "fig.add_layer(marker_layer)\n",
    "fig"
   ]
  },
  {
   "cell_type": "code",
   "execution_count": null,
   "metadata": {},
   "outputs": [],
   "source": []
  }
 ],
 "metadata": {
  "kernelspec": {
   "name": "python3",
   "display_name": "Python 3.7.9 64-bit",
   "metadata": {
    "interpreter": {
     "hash": "99f3ade31eb0bface90aab81ef2fd6bc9312992e5a0eead88a032484a08b1bba"
    }
   }
  },
  "language_info": {
   "codemirror_mode": {
    "name": "ipython",
    "version": 3
   },
   "file_extension": ".py",
   "mimetype": "text/x-python",
   "name": "python",
   "nbconvert_exporter": "python",
   "pygments_lexer": "ipython3",
   "version": "3.7.9-final"
  },
  "latex_envs": {
   "LaTeX_envs_menu_present": true,
   "autoclose": false,
   "autocomplete": true,
   "bibliofile": "biblio.bib",
   "cite_by": "apalike",
   "current_citInitial": 1,
   "eqLabelWithNumbers": true,
   "eqNumInitial": 1,
   "hotkeys": {
    "equation": "Ctrl-E",
    "itemize": "Ctrl-I"
   },
   "labels_anchors": false,
   "latex_user_defs": false,
   "report_style_numbering": false,
   "user_envs_cfg": false
  }
 },
 "nbformat": 4,
 "nbformat_minor": 2
}