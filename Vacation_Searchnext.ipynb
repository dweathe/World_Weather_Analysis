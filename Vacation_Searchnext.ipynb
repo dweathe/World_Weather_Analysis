{
 "cells": [
  {
   "cell_type": "markdown",
   "metadata": {},
   "source": [
    "## Deliverable 2. Create a Customer Travel Destinations Map."
   ]
  },
  {
   "cell_type": "code",
   "execution_count": 1,
   "metadata": {},
   "outputs": [],
   "source": [
    "# Dependencies and Setup\n",
    "import pandas as pd\n",
    "import requests\n",
    "import gmaps\n",
    "import numpy as np\n",
    "# Import API key\n",
    "from config import g_key\n",
    "\n",
    "# Configure gmaps API key\n",
    "gmaps.configure(api_key=g_key)"
   ]
  },
  {
   "cell_type": "code",
   "execution_count": 2,
   "metadata": {},
   "outputs": [
    {
     "output_type": "execute_result",
     "data": {
      "text/plain": [
       "   City_ID               City Country  City Latitude  City Longitude  \\\n",
       "0        0           Kūhdasht      IR        33.5350         47.6061   \n",
       "1        1       Punta Arenas      CL       -53.1500        -70.9167   \n",
       "2        2             Broome      US        42.2506        -75.8330   \n",
       "3        3  City of San Pedro      PH        14.3500        121.0167   \n",
       "4        4  Saint Paul Harbor      US        57.7900       -152.4072   \n",
       "\n",
       "   Maximum Temperature  Percent Humidity  Percent Cloudiness  Wind Speed  \\\n",
       "0                35.29                83                  88        1.66   \n",
       "1                51.80                62                   0       26.46   \n",
       "2                15.01                73                   1        9.22   \n",
       "3                81.00                69                  40        5.75   \n",
       "4                33.80                55                   1       23.02   \n",
       "\n",
       "  Weather Description  \n",
       "0     overcast clouds  \n",
       "1           clear sky  \n",
       "2           clear sky  \n",
       "3    scattered clouds  \n",
       "4           clear sky  "
      ],
      "text/html": "<div>\n<style scoped>\n    .dataframe tbody tr th:only-of-type {\n        vertical-align: middle;\n    }\n\n    .dataframe tbody tr th {\n        vertical-align: top;\n    }\n\n    .dataframe thead th {\n        text-align: right;\n    }\n</style>\n<table border=\"1\" class=\"dataframe\">\n  <thead>\n    <tr style=\"text-align: right;\">\n      <th></th>\n      <th>City_ID</th>\n      <th>City</th>\n      <th>Country</th>\n      <th>City Latitude</th>\n      <th>City Longitude</th>\n      <th>Maximum Temperature</th>\n      <th>Percent Humidity</th>\n      <th>Percent Cloudiness</th>\n      <th>Wind Speed</th>\n      <th>Weather Description</th>\n    </tr>\n  </thead>\n  <tbody>\n    <tr>\n      <th>0</th>\n      <td>0</td>\n      <td>Kūhdasht</td>\n      <td>IR</td>\n      <td>33.5350</td>\n      <td>47.6061</td>\n      <td>35.29</td>\n      <td>83</td>\n      <td>88</td>\n      <td>1.66</td>\n      <td>overcast clouds</td>\n    </tr>\n    <tr>\n      <th>1</th>\n      <td>1</td>\n      <td>Punta Arenas</td>\n      <td>CL</td>\n      <td>-53.1500</td>\n      <td>-70.9167</td>\n      <td>51.80</td>\n      <td>62</td>\n      <td>0</td>\n      <td>26.46</td>\n      <td>clear sky</td>\n    </tr>\n    <tr>\n      <th>2</th>\n      <td>2</td>\n      <td>Broome</td>\n      <td>US</td>\n      <td>42.2506</td>\n      <td>-75.8330</td>\n      <td>15.01</td>\n      <td>73</td>\n      <td>1</td>\n      <td>9.22</td>\n      <td>clear sky</td>\n    </tr>\n    <tr>\n      <th>3</th>\n      <td>3</td>\n      <td>City of San Pedro</td>\n      <td>PH</td>\n      <td>14.3500</td>\n      <td>121.0167</td>\n      <td>81.00</td>\n      <td>69</td>\n      <td>40</td>\n      <td>5.75</td>\n      <td>scattered clouds</td>\n    </tr>\n    <tr>\n      <th>4</th>\n      <td>4</td>\n      <td>Saint Paul Harbor</td>\n      <td>US</td>\n      <td>57.7900</td>\n      <td>-152.4072</td>\n      <td>33.80</td>\n      <td>55</td>\n      <td>1</td>\n      <td>23.02</td>\n      <td>clear sky</td>\n    </tr>\n  </tbody>\n</table>\n</div>"
     },
     "metadata": {},
     "execution_count": 2
    }
   ],
   "source": [
    "# 1. Import the WeatherPy_database.csv file. \n",
    "city_data_df = pd.read_csv(\"../Weather_Database/WeatherPy_database.csv\")\n",
    "city_data_df.head()"
   ]
  },
  {
   "cell_type": "code",
   "execution_count": 3,
   "metadata": {},
   "outputs": [],
   "source": [
    "# 2. Prompt the user to enter minimum and maximum temperature criteria \n",
    "min_temp = float(input(\"What is min temp\"))\n",
    "max_temp = float(input(\"What is max temp\"))\n"
   ]
  },
  {
   "cell_type": "code",
   "execution_count": 4,
   "metadata": {},
   "outputs": [
    {
     "output_type": "execute_result",
     "data": {
      "text/plain": [
       "    City_ID              City Country  City Latitude  City Longitude  \\\n",
       "1         1      Punta Arenas      CL       -53.1500        -70.9167   \n",
       "5         5         Busselton      AU       -33.6500        115.3333   \n",
       "6         6           Mataura      NZ       -46.1927        168.8643   \n",
       "7         7       Bandarbeyla      SO         9.4942         50.8122   \n",
       "8         8            Castro      BR       -24.7911        -50.0119   \n",
       "12       12          Lüderitz     NaN       -26.6481         15.1594   \n",
       "13       13            Talara      PE        -4.5772        -81.2719   \n",
       "15       15            Tsogni      GA        -2.7942         10.0988   \n",
       "16       16            Tsogni      GA        -2.7942         10.0988   \n",
       "17       17  Pinheiro Machado      BR       -31.5783        -53.3811   \n",
       "\n",
       "    Maximum Temperature  Percent Humidity  Percent Cloudiness  Wind Speed  \\\n",
       "1                 51.80                62                   0       26.46   \n",
       "5                 79.00                53                   0        8.48   \n",
       "6                 72.55                36                  98        3.22   \n",
       "7                 73.80                72                 100       15.79   \n",
       "8                 65.68                97                 100        5.99   \n",
       "12                65.39                63                   0       18.03   \n",
       "13                75.81                77                  62       13.96   \n",
       "15                76.48                90                 100        0.18   \n",
       "16                76.48                90                 100        0.18   \n",
       "17                69.10               100                 100        7.43   \n",
       "\n",
       "   Weather Description  \n",
       "1            clear sky  \n",
       "5            clear sky  \n",
       "6      overcast clouds  \n",
       "7      overcast clouds  \n",
       "8      overcast clouds  \n",
       "12           clear sky  \n",
       "13       broken clouds  \n",
       "15          light rain  \n",
       "16          light rain  \n",
       "17          light rain  "
      ],
      "text/html": "<div>\n<style scoped>\n    .dataframe tbody tr th:only-of-type {\n        vertical-align: middle;\n    }\n\n    .dataframe tbody tr th {\n        vertical-align: top;\n    }\n\n    .dataframe thead th {\n        text-align: right;\n    }\n</style>\n<table border=\"1\" class=\"dataframe\">\n  <thead>\n    <tr style=\"text-align: right;\">\n      <th></th>\n      <th>City_ID</th>\n      <th>City</th>\n      <th>Country</th>\n      <th>City Latitude</th>\n      <th>City Longitude</th>\n      <th>Maximum Temperature</th>\n      <th>Percent Humidity</th>\n      <th>Percent Cloudiness</th>\n      <th>Wind Speed</th>\n      <th>Weather Description</th>\n    </tr>\n  </thead>\n  <tbody>\n    <tr>\n      <th>1</th>\n      <td>1</td>\n      <td>Punta Arenas</td>\n      <td>CL</td>\n      <td>-53.1500</td>\n      <td>-70.9167</td>\n      <td>51.80</td>\n      <td>62</td>\n      <td>0</td>\n      <td>26.46</td>\n      <td>clear sky</td>\n    </tr>\n    <tr>\n      <th>5</th>\n      <td>5</td>\n      <td>Busselton</td>\n      <td>AU</td>\n      <td>-33.6500</td>\n      <td>115.3333</td>\n      <td>79.00</td>\n      <td>53</td>\n      <td>0</td>\n      <td>8.48</td>\n      <td>clear sky</td>\n    </tr>\n    <tr>\n      <th>6</th>\n      <td>6</td>\n      <td>Mataura</td>\n      <td>NZ</td>\n      <td>-46.1927</td>\n      <td>168.8643</td>\n      <td>72.55</td>\n      <td>36</td>\n      <td>98</td>\n      <td>3.22</td>\n      <td>overcast clouds</td>\n    </tr>\n    <tr>\n      <th>7</th>\n      <td>7</td>\n      <td>Bandarbeyla</td>\n      <td>SO</td>\n      <td>9.4942</td>\n      <td>50.8122</td>\n      <td>73.80</td>\n      <td>72</td>\n      <td>100</td>\n      <td>15.79</td>\n      <td>overcast clouds</td>\n    </tr>\n    <tr>\n      <th>8</th>\n      <td>8</td>\n      <td>Castro</td>\n      <td>BR</td>\n      <td>-24.7911</td>\n      <td>-50.0119</td>\n      <td>65.68</td>\n      <td>97</td>\n      <td>100</td>\n      <td>5.99</td>\n      <td>overcast clouds</td>\n    </tr>\n    <tr>\n      <th>12</th>\n      <td>12</td>\n      <td>Lüderitz</td>\n      <td>NaN</td>\n      <td>-26.6481</td>\n      <td>15.1594</td>\n      <td>65.39</td>\n      <td>63</td>\n      <td>0</td>\n      <td>18.03</td>\n      <td>clear sky</td>\n    </tr>\n    <tr>\n      <th>13</th>\n      <td>13</td>\n      <td>Talara</td>\n      <td>PE</td>\n      <td>-4.5772</td>\n      <td>-81.2719</td>\n      <td>75.81</td>\n      <td>77</td>\n      <td>62</td>\n      <td>13.96</td>\n      <td>broken clouds</td>\n    </tr>\n    <tr>\n      <th>15</th>\n      <td>15</td>\n      <td>Tsogni</td>\n      <td>GA</td>\n      <td>-2.7942</td>\n      <td>10.0988</td>\n      <td>76.48</td>\n      <td>90</td>\n      <td>100</td>\n      <td>0.18</td>\n      <td>light rain</td>\n    </tr>\n    <tr>\n      <th>16</th>\n      <td>16</td>\n      <td>Tsogni</td>\n      <td>GA</td>\n      <td>-2.7942</td>\n      <td>10.0988</td>\n      <td>76.48</td>\n      <td>90</td>\n      <td>100</td>\n      <td>0.18</td>\n      <td>light rain</td>\n    </tr>\n    <tr>\n      <th>17</th>\n      <td>17</td>\n      <td>Pinheiro Machado</td>\n      <td>BR</td>\n      <td>-31.5783</td>\n      <td>-53.3811</td>\n      <td>69.10</td>\n      <td>100</td>\n      <td>100</td>\n      <td>7.43</td>\n      <td>light rain</td>\n    </tr>\n  </tbody>\n</table>\n</div>"
     },
     "metadata": {},
     "execution_count": 4
    }
   ],
   "source": [
    "# 3. Filter the city_data_df DataFrame using the input statements to create a new DataFrame using the loc method.\n",
    "preferered_city_df = city_data_df.loc[(city_data_df[\"Maximum Temperature\"] <= max_temp) & (city_data_df[\"Maximum Temperature\"] >= min_temp)]\n",
    "preferered_city_df.head(10)"
   ]
  },
  {
   "cell_type": "code",
   "execution_count": 13,
   "metadata": {},
   "outputs": [
    {
     "output_type": "execute_result",
     "data": {
      "text/plain": [
       "City_ID                784\n",
       "City                   784\n",
       "Country                778\n",
       "City Latitude          784\n",
       "City Longitude         784\n",
       "Maximum Temperature    784\n",
       "Percent Humidity       784\n",
       "Percent Cloudiness     784\n",
       "Wind Speed             784\n",
       "Weather Description    784\n",
       "dtype: int64"
      ]
     },
     "metadata": {},
     "execution_count": 13
    }
   ],
   "source": [
    "# 4a. Determine if there are any empty rows.\n",
    "city_data_df.count()"
   ]
  },
  {
   "cell_type": "code",
   "execution_count": 14,
   "metadata": {},
   "outputs": [
    {
     "output_type": "execute_result",
     "data": {
      "text/plain": [
       "     City_ID               City Country  City Latitude  City Longitude  \\\n",
       "0          0           Kūhdasht      IR        33.5350         47.6061   \n",
       "1          1       Punta Arenas      CL       -53.1500        -70.9167   \n",
       "2          2             Broome      US        42.2506        -75.8330   \n",
       "3          3  City of San Pedro      PH        14.3500        121.0167   \n",
       "4          4  Saint Paul Harbor      US        57.7900       -152.4072   \n",
       "..       ...                ...     ...            ...             ...   \n",
       "779      779          Mogadishu      SO         2.0371         45.3438   \n",
       "780      780            Emporia      US        38.4039        -96.1817   \n",
       "781      781            Emporia      US        38.4039        -96.1817   \n",
       "782      782            Emporia      US        38.4039        -96.1817   \n",
       "783      783            Terenos      BR       -20.4422        -54.8603   \n",
       "\n",
       "     Maximum Temperature  Percent Humidity  Percent Cloudiness  Wind Speed  \\\n",
       "0                  35.29                83                  88        1.66   \n",
       "1                  51.80                62                   0       26.46   \n",
       "2                  15.01                73                   1        9.22   \n",
       "3                  81.00                69                  40        5.75   \n",
       "4                  33.80                55                   1       23.02   \n",
       "..                   ...               ...                 ...         ...   \n",
       "779                74.70                84                  16       16.69   \n",
       "780                41.00                93                  90       16.11   \n",
       "781                41.00                93                  90       16.11   \n",
       "782                41.00                93                  90       16.11   \n",
       "783                73.40                88                  20        6.91   \n",
       "\n",
       "    Weather Description  \n",
       "0       overcast clouds  \n",
       "1             clear sky  \n",
       "2             clear sky  \n",
       "3      scattered clouds  \n",
       "4             clear sky  \n",
       "..                  ...  \n",
       "779          few clouds  \n",
       "780                mist  \n",
       "781                mist  \n",
       "782                mist  \n",
       "783          few clouds  \n",
       "\n",
       "[778 rows x 10 columns]"
      ],
      "text/html": "<div>\n<style scoped>\n    .dataframe tbody tr th:only-of-type {\n        vertical-align: middle;\n    }\n\n    .dataframe tbody tr th {\n        vertical-align: top;\n    }\n\n    .dataframe thead th {\n        text-align: right;\n    }\n</style>\n<table border=\"1\" class=\"dataframe\">\n  <thead>\n    <tr style=\"text-align: right;\">\n      <th></th>\n      <th>City_ID</th>\n      <th>City</th>\n      <th>Country</th>\n      <th>City Latitude</th>\n      <th>City Longitude</th>\n      <th>Maximum Temperature</th>\n      <th>Percent Humidity</th>\n      <th>Percent Cloudiness</th>\n      <th>Wind Speed</th>\n      <th>Weather Description</th>\n    </tr>\n  </thead>\n  <tbody>\n    <tr>\n      <th>0</th>\n      <td>0</td>\n      <td>Kūhdasht</td>\n      <td>IR</td>\n      <td>33.5350</td>\n      <td>47.6061</td>\n      <td>35.29</td>\n      <td>83</td>\n      <td>88</td>\n      <td>1.66</td>\n      <td>overcast clouds</td>\n    </tr>\n    <tr>\n      <th>1</th>\n      <td>1</td>\n      <td>Punta Arenas</td>\n      <td>CL</td>\n      <td>-53.1500</td>\n      <td>-70.9167</td>\n      <td>51.80</td>\n      <td>62</td>\n      <td>0</td>\n      <td>26.46</td>\n      <td>clear sky</td>\n    </tr>\n    <tr>\n      <th>2</th>\n      <td>2</td>\n      <td>Broome</td>\n      <td>US</td>\n      <td>42.2506</td>\n      <td>-75.8330</td>\n      <td>15.01</td>\n      <td>73</td>\n      <td>1</td>\n      <td>9.22</td>\n      <td>clear sky</td>\n    </tr>\n    <tr>\n      <th>3</th>\n      <td>3</td>\n      <td>City of San Pedro</td>\n      <td>PH</td>\n      <td>14.3500</td>\n      <td>121.0167</td>\n      <td>81.00</td>\n      <td>69</td>\n      <td>40</td>\n      <td>5.75</td>\n      <td>scattered clouds</td>\n    </tr>\n    <tr>\n      <th>4</th>\n      <td>4</td>\n      <td>Saint Paul Harbor</td>\n      <td>US</td>\n      <td>57.7900</td>\n      <td>-152.4072</td>\n      <td>33.80</td>\n      <td>55</td>\n      <td>1</td>\n      <td>23.02</td>\n      <td>clear sky</td>\n    </tr>\n    <tr>\n      <th>...</th>\n      <td>...</td>\n      <td>...</td>\n      <td>...</td>\n      <td>...</td>\n      <td>...</td>\n      <td>...</td>\n      <td>...</td>\n      <td>...</td>\n      <td>...</td>\n      <td>...</td>\n    </tr>\n    <tr>\n      <th>779</th>\n      <td>779</td>\n      <td>Mogadishu</td>\n      <td>SO</td>\n      <td>2.0371</td>\n      <td>45.3438</td>\n      <td>74.70</td>\n      <td>84</td>\n      <td>16</td>\n      <td>16.69</td>\n      <td>few clouds</td>\n    </tr>\n    <tr>\n      <th>780</th>\n      <td>780</td>\n      <td>Emporia</td>\n      <td>US</td>\n      <td>38.4039</td>\n      <td>-96.1817</td>\n      <td>41.00</td>\n      <td>93</td>\n      <td>90</td>\n      <td>16.11</td>\n      <td>mist</td>\n    </tr>\n    <tr>\n      <th>781</th>\n      <td>781</td>\n      <td>Emporia</td>\n      <td>US</td>\n      <td>38.4039</td>\n      <td>-96.1817</td>\n      <td>41.00</td>\n      <td>93</td>\n      <td>90</td>\n      <td>16.11</td>\n      <td>mist</td>\n    </tr>\n    <tr>\n      <th>782</th>\n      <td>782</td>\n      <td>Emporia</td>\n      <td>US</td>\n      <td>38.4039</td>\n      <td>-96.1817</td>\n      <td>41.00</td>\n      <td>93</td>\n      <td>90</td>\n      <td>16.11</td>\n      <td>mist</td>\n    </tr>\n    <tr>\n      <th>783</th>\n      <td>783</td>\n      <td>Terenos</td>\n      <td>BR</td>\n      <td>-20.4422</td>\n      <td>-54.8603</td>\n      <td>73.40</td>\n      <td>88</td>\n      <td>20</td>\n      <td>6.91</td>\n      <td>few clouds</td>\n    </tr>\n  </tbody>\n</table>\n<p>778 rows × 10 columns</p>\n</div>"
     },
     "metadata": {},
     "execution_count": 14
    }
   ],
   "source": [
    "# 4b. Drop any empty rows and create a new DataFrame that doesn’t have empty rows.\n",
    "city_data_df.dropna()"
   ]
  },
  {
   "cell_type": "code",
   "execution_count": 15,
   "metadata": {},
   "outputs": [
    {
     "output_type": "execute_result",
     "data": {
      "text/plain": [
       "                City Country  Maximum Temperature Weather Description  \\\n",
       "0           Kūhdasht      IR                35.29     overcast clouds   \n",
       "1       Punta Arenas      CL                51.80           clear sky   \n",
       "2             Broome      US                15.01           clear sky   \n",
       "3  City of San Pedro      PH                81.00    scattered clouds   \n",
       "4  Saint Paul Harbor      US                33.80           clear sky   \n",
       "5          Busselton      AU                79.00           clear sky   \n",
       "6            Mataura      NZ                72.55     overcast clouds   \n",
       "7        Bandarbeyla      SO                73.80     overcast clouds   \n",
       "8             Castro      BR                65.68     overcast clouds   \n",
       "9    Yangi Marg`ilon      UZ                33.80     overcast clouds   \n",
       "\n",
       "   City Latitude  City Longitude Hotel Name  \n",
       "0        33.5350         47.6061             \n",
       "1       -53.1500        -70.9167             \n",
       "2        42.2506        -75.8330             \n",
       "3        14.3500        121.0167             \n",
       "4        57.7900       -152.4072             \n",
       "5       -33.6500        115.3333             \n",
       "6       -46.1927        168.8643             \n",
       "7         9.4942         50.8122             \n",
       "8       -24.7911        -50.0119             \n",
       "9        40.4272         71.7189             "
      ],
      "text/html": "<div>\n<style scoped>\n    .dataframe tbody tr th:only-of-type {\n        vertical-align: middle;\n    }\n\n    .dataframe tbody tr th {\n        vertical-align: top;\n    }\n\n    .dataframe thead th {\n        text-align: right;\n    }\n</style>\n<table border=\"1\" class=\"dataframe\">\n  <thead>\n    <tr style=\"text-align: right;\">\n      <th></th>\n      <th>City</th>\n      <th>Country</th>\n      <th>Maximum Temperature</th>\n      <th>Weather Description</th>\n      <th>City Latitude</th>\n      <th>City Longitude</th>\n      <th>Hotel Name</th>\n    </tr>\n  </thead>\n  <tbody>\n    <tr>\n      <th>0</th>\n      <td>Kūhdasht</td>\n      <td>IR</td>\n      <td>35.29</td>\n      <td>overcast clouds</td>\n      <td>33.5350</td>\n      <td>47.6061</td>\n      <td></td>\n    </tr>\n    <tr>\n      <th>1</th>\n      <td>Punta Arenas</td>\n      <td>CL</td>\n      <td>51.80</td>\n      <td>clear sky</td>\n      <td>-53.1500</td>\n      <td>-70.9167</td>\n      <td></td>\n    </tr>\n    <tr>\n      <th>2</th>\n      <td>Broome</td>\n      <td>US</td>\n      <td>15.01</td>\n      <td>clear sky</td>\n      <td>42.2506</td>\n      <td>-75.8330</td>\n      <td></td>\n    </tr>\n    <tr>\n      <th>3</th>\n      <td>City of San Pedro</td>\n      <td>PH</td>\n      <td>81.00</td>\n      <td>scattered clouds</td>\n      <td>14.3500</td>\n      <td>121.0167</td>\n      <td></td>\n    </tr>\n    <tr>\n      <th>4</th>\n      <td>Saint Paul Harbor</td>\n      <td>US</td>\n      <td>33.80</td>\n      <td>clear sky</td>\n      <td>57.7900</td>\n      <td>-152.4072</td>\n      <td></td>\n    </tr>\n    <tr>\n      <th>5</th>\n      <td>Busselton</td>\n      <td>AU</td>\n      <td>79.00</td>\n      <td>clear sky</td>\n      <td>-33.6500</td>\n      <td>115.3333</td>\n      <td></td>\n    </tr>\n    <tr>\n      <th>6</th>\n      <td>Mataura</td>\n      <td>NZ</td>\n      <td>72.55</td>\n      <td>overcast clouds</td>\n      <td>-46.1927</td>\n      <td>168.8643</td>\n      <td></td>\n    </tr>\n    <tr>\n      <th>7</th>\n      <td>Bandarbeyla</td>\n      <td>SO</td>\n      <td>73.80</td>\n      <td>overcast clouds</td>\n      <td>9.4942</td>\n      <td>50.8122</td>\n      <td></td>\n    </tr>\n    <tr>\n      <th>8</th>\n      <td>Castro</td>\n      <td>BR</td>\n      <td>65.68</td>\n      <td>overcast clouds</td>\n      <td>-24.7911</td>\n      <td>-50.0119</td>\n      <td></td>\n    </tr>\n    <tr>\n      <th>9</th>\n      <td>Yangi Marg`ilon</td>\n      <td>UZ</td>\n      <td>33.80</td>\n      <td>overcast clouds</td>\n      <td>40.4272</td>\n      <td>71.7189</td>\n      <td></td>\n    </tr>\n  </tbody>\n</table>\n</div>"
     },
     "metadata": {},
     "execution_count": 15
    }
   ],
   "source": [
    "# 5a. Create DataFrame called hotel_df to store hotel names along with city, country, max temp, and coordinates.\n",
    "hotel_df = city_data_df[[\"City\", \"Country\", \"Maximum Temperature\", \"Weather Description\", \"City Latitude\", \"City Longitude\"]].copy()\n",
    "\n",
    "# 5b. Create a new column \"Hotel Name\"\n",
    "hotel_df[\"Hotel Name\"] = \"\"\n",
    "hotel_df.head(10)"
   ]
  },
  {
   "cell_type": "code",
   "execution_count": 16,
   "metadata": {},
   "outputs": [
    {
     "output_type": "stream",
     "name": "stdout",
     "text": [
      "Hotel not found...skipping\n",
      "Hotel not found...skipping\n",
      "Hotel not found...skipping\n",
      "Hotel not found...skipping\n",
      "Hotel not found...skipping\n",
      "Hotel not found...skipping\n",
      "Hotel not found...skipping\n",
      "Hotel not found...skipping\n",
      "Hotel not found...skipping\n",
      "Hotel not found...skipping\n",
      "Hotel not found...skipping\n",
      "Hotel not found...skipping\n",
      "Hotel not found...skipping\n",
      "Hotel not found...skipping\n",
      "Hotel not found...skipping\n",
      "Hotel not found...skipping\n",
      "Hotel not found...skipping\n",
      "Hotel not found...skipping\n",
      "Hotel not found...skipping\n",
      "Hotel not found...skipping\n",
      "Hotel not found...skipping\n",
      "Hotel not found...skipping\n",
      "Hotel not found...skipping\n",
      "Hotel not found...skipping\n",
      "Hotel not found...skipping\n",
      "Hotel not found...skipping\n",
      "Hotel not found...skipping\n",
      "Hotel not found...skipping\n",
      "Hotel not found...skipping\n",
      "Hotel not found...skipping\n",
      "Hotel not found...skipping\n",
      "Hotel not found...skipping\n",
      "Hotel not found...skipping\n",
      "Hotel not found...skipping\n",
      "Hotel not found...skipping\n",
      "Hotel not found...skipping\n",
      "Hotel not found...skipping\n",
      "Hotel not found...skipping\n",
      "Hotel not found...skipping\n",
      "Hotel not found...skipping\n",
      "Hotel not found...skipping\n",
      "Hotel not found...skipping\n",
      "Hotel not found...skipping\n",
      "Hotel not found...skipping\n",
      "Hotel not found...skipping\n",
      "Hotel not found...skipping\n",
      "Hotel not found...skipping\n",
      "Hotel not found...skipping\n",
      "Hotel not found...skipping\n",
      "Hotel not found...skipping\n",
      "Hotel not found...skipping\n",
      "Hotel not found...skipping\n",
      "Hotel not found...skipping\n",
      "Hotel not found...skipping\n",
      "Hotel not found...skipping\n",
      "Hotel not found...skipping\n",
      "Hotel not found...skipping\n",
      "Hotel not found...skipping\n",
      "Hotel not found...skipping\n",
      "Hotel not found...skipping\n",
      "Hotel not found...skipping\n",
      "Hotel not found...skipping\n",
      "Hotel not found...skipping\n",
      "Hotel not found...skipping\n",
      "Hotel not found...skipping\n",
      "Hotel not found...skipping\n",
      "Hotel not found...skipping\n",
      "Hotel not found...skipping\n",
      "Hotel not found...skipping\n",
      "Hotel not found...skipping\n",
      "Hotel not found...skipping\n",
      "Hotel not found...skipping\n",
      "Hotel not found...skipping\n",
      "Hotel not found...skipping\n",
      "Hotel not found...skipping\n",
      "Hotel not found...skipping\n",
      "Hotel not found...skipping\n",
      "Hotel not found...skipping\n",
      "Hotel not found...skipping\n",
      "Hotel not found...skipping\n",
      "Hotel not found...skipping\n",
      "Hotel not found...skipping\n",
      "Hotel not found...skipping\n",
      "Hotel not found...skipping\n",
      "Hotel not found...skipping\n",
      "Hotel not found...skipping\n",
      "Hotel not found...skipping\n"
     ]
    }
   ],
   "source": [
    "# 6a. Set parameters to search for hotels with 5000 meters.\n",
    "params = {\n",
    "    \"radius\": 5000,\n",
    "    \"type\": \"lodging\",\n",
    "    \"key\": g_key\n",
    "}\n",
    "\n",
    "# 6b. Iterate through the hotel DataFrame.\n",
    "for index, row in hotel_df.iterrows():\n",
    "    # 6c. Get latitude and longitude from DataFrame\n",
    "    lat = row[\"City Latitude\"]\n",
    "    lng = row[\"City Longitude\"]\n",
    "    params[\"location\"] = f\"{lat},{lng}\"\n",
    "    # 6d. Set up the base URL for the Google Directions API to get JSON data.\n",
    "    base_url = \"https://maps.googleapis.com/maps/api/place/nearbysearch/json\"\n",
    "\n",
    "    # 6e. Make request and retrieve the JSON data from the search. \n",
    "    hotels = requests.get(base_url, params=params).json()\n",
    "    \n",
    "    # 6f. Get the first hotel from the results and store the name, if a hotel isn't found skip the city.\n",
    "    try:\n",
    "        hotel_df.loc[index, \"Hotel Name\"] = hotels[\"results\"][0][\"name\"]\n",
    "    except:\n",
    "        print(\"Hotel not found...skipping\")\n",
    "        "
   ]
  },
  {
   "cell_type": "code",
   "execution_count": 18,
   "metadata": {},
   "outputs": [
    {
     "output_type": "execute_result",
     "data": {
      "text/plain": [
       "                  City Country  Maximum Temperature Weather Description  \\\n",
       "0             Kūhdasht      IR                35.29     overcast clouds   \n",
       "1         Punta Arenas      CL                51.80           clear sky   \n",
       "2               Broome      US                15.01           clear sky   \n",
       "3    City of San Pedro      PH                81.00    scattered clouds   \n",
       "4    Saint Paul Harbor      US                33.80           clear sky   \n",
       "..                 ...     ...                  ...                 ...   \n",
       "779          Mogadishu      SO                74.70          few clouds   \n",
       "780            Emporia      US                41.00                mist   \n",
       "781            Emporia      US                41.00                mist   \n",
       "782            Emporia      US                41.00                mist   \n",
       "783            Terenos      BR                73.40          few clouds   \n",
       "\n",
       "     City Latitude  City Longitude  \\\n",
       "0          33.5350         47.6061   \n",
       "1         -53.1500        -70.9167   \n",
       "2          42.2506        -75.8330   \n",
       "3          14.3500        121.0167   \n",
       "4          57.7900       -152.4072   \n",
       "..             ...             ...   \n",
       "779         2.0371         45.3438   \n",
       "780        38.4039        -96.1817   \n",
       "781        38.4039        -96.1817   \n",
       "782        38.4039        -96.1817   \n",
       "783       -20.4422        -54.8603   \n",
       "\n",
       "                                        Hotel Name  \n",
       "0                                    فروشگاه زنبیل  \n",
       "1                        Hotel Dreams Del Estrecho  \n",
       "2                       Chenango Valley State Park  \n",
       "3                           OYO 412 Viewfort Venue  \n",
       "4    Best Western Kodiak Inn and Convention Center  \n",
       "..                                             ...  \n",
       "779                                     Hotel Juba  \n",
       "780                      Candlewood Suites Emporia  \n",
       "781                      Candlewood Suites Emporia  \n",
       "782                      Candlewood Suites Emporia  \n",
       "783                                QUINTAS IN CASA  \n",
       "\n",
       "[697 rows x 7 columns]"
      ],
      "text/html": "<div>\n<style scoped>\n    .dataframe tbody tr th:only-of-type {\n        vertical-align: middle;\n    }\n\n    .dataframe tbody tr th {\n        vertical-align: top;\n    }\n\n    .dataframe thead th {\n        text-align: right;\n    }\n</style>\n<table border=\"1\" class=\"dataframe\">\n  <thead>\n    <tr style=\"text-align: right;\">\n      <th></th>\n      <th>City</th>\n      <th>Country</th>\n      <th>Maximum Temperature</th>\n      <th>Weather Description</th>\n      <th>City Latitude</th>\n      <th>City Longitude</th>\n      <th>Hotel Name</th>\n    </tr>\n  </thead>\n  <tbody>\n    <tr>\n      <th>0</th>\n      <td>Kūhdasht</td>\n      <td>IR</td>\n      <td>35.29</td>\n      <td>overcast clouds</td>\n      <td>33.5350</td>\n      <td>47.6061</td>\n      <td>فروشگاه زنبیل</td>\n    </tr>\n    <tr>\n      <th>1</th>\n      <td>Punta Arenas</td>\n      <td>CL</td>\n      <td>51.80</td>\n      <td>clear sky</td>\n      <td>-53.1500</td>\n      <td>-70.9167</td>\n      <td>Hotel Dreams Del Estrecho</td>\n    </tr>\n    <tr>\n      <th>2</th>\n      <td>Broome</td>\n      <td>US</td>\n      <td>15.01</td>\n      <td>clear sky</td>\n      <td>42.2506</td>\n      <td>-75.8330</td>\n      <td>Chenango Valley State Park</td>\n    </tr>\n    <tr>\n      <th>3</th>\n      <td>City of San Pedro</td>\n      <td>PH</td>\n      <td>81.00</td>\n      <td>scattered clouds</td>\n      <td>14.3500</td>\n      <td>121.0167</td>\n      <td>OYO 412 Viewfort Venue</td>\n    </tr>\n    <tr>\n      <th>4</th>\n      <td>Saint Paul Harbor</td>\n      <td>US</td>\n      <td>33.80</td>\n      <td>clear sky</td>\n      <td>57.7900</td>\n      <td>-152.4072</td>\n      <td>Best Western Kodiak Inn and Convention Center</td>\n    </tr>\n    <tr>\n      <th>...</th>\n      <td>...</td>\n      <td>...</td>\n      <td>...</td>\n      <td>...</td>\n      <td>...</td>\n      <td>...</td>\n      <td>...</td>\n    </tr>\n    <tr>\n      <th>779</th>\n      <td>Mogadishu</td>\n      <td>SO</td>\n      <td>74.70</td>\n      <td>few clouds</td>\n      <td>2.0371</td>\n      <td>45.3438</td>\n      <td>Hotel Juba</td>\n    </tr>\n    <tr>\n      <th>780</th>\n      <td>Emporia</td>\n      <td>US</td>\n      <td>41.00</td>\n      <td>mist</td>\n      <td>38.4039</td>\n      <td>-96.1817</td>\n      <td>Candlewood Suites Emporia</td>\n    </tr>\n    <tr>\n      <th>781</th>\n      <td>Emporia</td>\n      <td>US</td>\n      <td>41.00</td>\n      <td>mist</td>\n      <td>38.4039</td>\n      <td>-96.1817</td>\n      <td>Candlewood Suites Emporia</td>\n    </tr>\n    <tr>\n      <th>782</th>\n      <td>Emporia</td>\n      <td>US</td>\n      <td>41.00</td>\n      <td>mist</td>\n      <td>38.4039</td>\n      <td>-96.1817</td>\n      <td>Candlewood Suites Emporia</td>\n    </tr>\n    <tr>\n      <th>783</th>\n      <td>Terenos</td>\n      <td>BR</td>\n      <td>73.40</td>\n      <td>few clouds</td>\n      <td>-20.4422</td>\n      <td>-54.8603</td>\n      <td>QUINTAS IN CASA</td>\n    </tr>\n  </tbody>\n</table>\n<p>697 rows × 7 columns</p>\n</div>"
     },
     "metadata": {},
     "execution_count": 18
    }
   ],
   "source": [
    "# 7. Drop the rows where there is no Hotel Name.\n",
    "hotel_df[\"Hotel Name\"].replace('', np.nan , inplace=True)\n",
    "hotel_df.dropna(subset=[\"Hotel Name\"], inplace=True)\n",
    "hotel_df"
   ]
  },
  {
   "cell_type": "code",
   "execution_count": 19,
   "metadata": {},
   "outputs": [],
   "source": [
    "# 8a. Create the output File (CSV)\n",
    "output_data_file = \"WeatherPy_vacation.csv\"\n",
    "\n",
    "# 8b. Export the City_Data into a csv\n",
    "hotel_df.to_csv(output_data_file, index_label=\"City_ID\")"
   ]
  },
  {
   "cell_type": "code",
   "execution_count": 29,
   "metadata": {},
   "outputs": [],
   "source": [
    "# 9. Using the template add city name, the country code, the weather description and maximum temperature for the city.\n",
    "info_box_template = \"\"\"\n",
    "<dl>\n",
    "<dt>Hotel Name</dt><dd>{Hotel Name}</dd>\n",
    "<dt>City</dt><dd>{City}</dd>\n",
    "<dt>Country</dt><dd>{Country}</dd>\n",
    "<dt>Current Weather</dt><dd>{Weather Description} and {Maximum Temperature} °F</dd>\n",
    "</dl>\n",
    "\"\"\"\n",
    "\n",
    "# 10a. Get the data from each row and add it to the formatting template and store the data in a list.\n",
    "hotel_info = [info_box_template.format(**row) for index, row in hotel_df.iterrows()]\n",
    "\n",
    "# 10b. Get the latitude and longitude from each row and store in a new DataFrame.\n",
    "locations = hotel_df[[\"City Latitude\", \"City Longitude\"]]"
   ]
  },
  {
   "cell_type": "code",
   "execution_count": 30,
   "metadata": {},
   "outputs": [
    {
     "output_type": "display_data",
     "data": {
      "text/plain": "Figure(layout=FigureLayout(height='420px'))",
      "application/vnd.jupyter.widget-view+json": {
       "version_major": 2,
       "version_minor": 0,
       "model_id": "b2d0e2b0b8f3482d986972db954aba1e"
      }
     },
     "metadata": {}
    }
   ],
   "source": [
    "# 11a. Add a marker layer for each city to the map. \n",
    "marker_layer = gmaps.marker_layer(locations,info_box_content=hotel_info)\n",
    "# 11b. Display the figure\n",
    "fig = gmaps.figure(center=(30.0, 31.0), zoom_level=1.5)\n",
    "fig.add_layer(marker_layer)\n",
    "fig"
   ]
  }
 ],
 "metadata": {
  "kernelspec": {
   "name": "python3",
   "display_name": "Python 3.7.9 64-bit",
   "metadata": {
    "interpreter": {
     "hash": "99f3ade31eb0bface90aab81ef2fd6bc9312992e5a0eead88a032484a08b1bba"
    }
   }
  },
  "language_info": {
   "codemirror_mode": {
    "name": "ipython",
    "version": 3
   },
   "file_extension": ".py",
   "mimetype": "text/x-python",
   "name": "python",
   "nbconvert_exporter": "python",
   "pygments_lexer": "ipython3",
   "version": "3.7.9-final"
  },
  "latex_envs": {
   "LaTeX_envs_menu_present": true,
   "autoclose": false,
   "autocomplete": true,
   "bibliofile": "biblio.bib",
   "cite_by": "apalike",
   "current_citInitial": 1,
   "eqLabelWithNumbers": true,
   "eqNumInitial": 1,
   "hotkeys": {
    "equation": "Ctrl-E",
    "itemize": "Ctrl-I"
   },
   "labels_anchors": false,
   "latex_user_defs": false,
   "report_style_numbering": false,
   "user_envs_cfg": false
  }
 },
 "nbformat": 4,
 "nbformat_minor": 2
}